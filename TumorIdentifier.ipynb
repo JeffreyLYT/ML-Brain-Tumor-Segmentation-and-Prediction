{
 "cells": [
  {
   "cell_type": "code",
   "execution_count": 6,
   "metadata": {},
   "outputs": [],
   "source": [
    "# Import useful packages\n",
    "import tensorflow as tf\n",
    "from tensorflow.keras.layers import Conv2D, Input, ZeroPadding2D, BatchNormalization, Activation, MaxPooling2D, Flatten, Dense\n",
    "from tensorflow.keras.models import Model, load_model\n",
    "from tensorflow.keras.callbacks import TensorBoard, ModelCheckpoint\n",
    "from sklearn.model_selection import train_test_split\n",
    "from sklearn.metrics import f1_score\n",
    "from sklearn.utils import shuffle\n",
    "import cv2\n",
    "import imutils\n",
    "import numpy as np\n",
    "import matplotlib.pyplot as plt\n",
    "import time\n",
    "from os import listdir, path\n",
    "import copy"
   ]
  },
  {
   "cell_type": "code",
   "execution_count": 86,
   "metadata": {},
   "outputs": [],
   "source": [
    "# Converts a rbg image to grayscale\n",
    "def rgb2gray(rgb):\n",
    "    return np.dot(rgb[...,:3], [0.2989, 0.5870, 0.1140])\n",
    "\n",
    "def crop_brain_contour(image, plot=False):\n",
    "    \n",
    "    # Convert the image to grayscale, and blur it slightly\n",
    "    if (len(image.shape) < 3):\n",
    "        gray = image\n",
    "    else:\n",
    "        gray = cv2.cvtColor(image, cv2.COLOR_BGR2GRAY)\n",
    "    gray = cv2.GaussianBlur(gray, (5, 5), 0)\n",
    "\n",
    "    # Threshold the image, then perform a series of erosions +\n",
    "    # dilations to remove any small regions of noise\n",
    "    thresh = cv2.threshold(gray, 45, 255, cv2.THRESH_BINARY)[1]\n",
    "    thresh = cv2.erode(thresh, None, iterations=2)\n",
    "    thresh = cv2.dilate(thresh, None, iterations=2)\n",
    "\n",
    "    # Find contours in thresholded image, then grab the largest one\n",
    "    cnts = cv2.findContours(thresh.copy(), cv2.RETR_EXTERNAL, cv2.CHAIN_APPROX_SIMPLE)\n",
    "    cnts = imutils.grab_contours(cnts)\n",
    "    c = max(cnts, key=cv2.contourArea)\n",
    "    \n",
    "\n",
    "    # Find the extreme points\n",
    "    extLeft = tuple(c[c[:, :, 0].argmin()][0])\n",
    "    extRight = tuple(c[c[:, :, 0].argmax()][0])\n",
    "    extTop = tuple(c[c[:, :, 1].argmin()][0])\n",
    "    extBot = tuple(c[c[:, :, 1].argmax()][0])\n",
    "    \n",
    "    # crop new image out of the original image using the four extreme points (left, right, top, bottom)\n",
    "    new_image = image[extTop[1]:extBot[1], extLeft[0]:extRight[0]]            \n",
    "\n",
    "    if plot:\n",
    "        plt.figure()\n",
    "\n",
    "        plt.subplot(1, 2, 1)\n",
    "        plt.imshow(image)\n",
    "        \n",
    "        plt.tick_params(axis='both', which='both', \n",
    "                        top=False, bottom=False, left=False, right=False,\n",
    "                        labelbottom=False, labeltop=False, labelleft=False, labelright=False)\n",
    "        \n",
    "        plt.title('Original Image')\n",
    "            \n",
    "        plt.subplot(1, 2, 2)\n",
    "        plt.imshow(new_image)\n",
    "\n",
    "        plt.tick_params(axis='both', which='both', \n",
    "                        top=False, bottom=False, left=False, right=False,\n",
    "                        labelbottom=False, labeltop=False, labelleft=False, labelright=False)\n",
    "\n",
    "        plt.title('Cropped Image')\n",
    "        \n",
    "        plt.show()\n",
    "    \n",
    "    return new_image\n",
    "\n",
    "\n",
    "def load_data(dir_list, image_size): #input [first_class, second_class, etc] and (image_width, image_height)\n",
    "\n",
    "    X = []\n",
    "    y = []\n",
    "    image_width, image_height = image_size\n",
    "\n",
    "    for directory in dir_list:\n",
    "        \n",
    "        # Output is 0 for no, 1 for yes\n",
    "        y_val = 0\n",
    "        if directory.endswith('yes'):\n",
    "            y_val = 1\n",
    "        \n",
    "        for filename in listdir(directory):\n",
    "            # load the image\n",
    "            #image = cv2.imread(directory + '\\\\' + filename)\n",
    "            image = cv2.imread(path.join(directory, filename), cv2.IMREAD_UNCHANGED)\n",
    "            #image = crop_brain_contour(image, plot=False)\n",
    "            image = cv2.resize(image, dsize=(image_width, image_height), interpolation=cv2.INTER_NEAREST)\n",
    "            \n",
    "            # Convert image to grayscale if necessary\n",
    "            if len(image.shape) != 2:\n",
    "                image = rgb2gray(image)\n",
    "            \n",
    "            # normalize values\n",
    "            image = image / 255.\n",
    "            \n",
    "            X.append(image)\n",
    "            y.append(y_val)\n",
    "            # append a value of 1 to the target array if the image\n",
    "            '''\n",
    "            # is in the folder named 'yes', otherwise append 0.\n",
    "            if directory[0] == 'yes': #for the time being we only have yes/no directories\n",
    "                y.append([1])\n",
    "            else: #other option is no aka directory[1]\n",
    "                y.append([0])\n",
    "            '''\n",
    "            \n",
    "    X = np.array(X)\n",
    "    y = np.array(y)\n",
    "\n",
    "    # Shuffle the data for good measure\n",
    "    X, y = shuffle(X, y)\n",
    "\n",
    "    #print(f'Number of examples is: {len(X)}')\n",
    "    #print(f'X shape is: {X.shape}')\n",
    "    #print(f'y shape is: {y.shape}')\n",
    "\n",
    "    return X, y\n",
    "\n",
    "# Split dataset\n",
    "def split_data(X, y, test_s=0.2):\n",
    "    X_train, X_temp, y_train, y_temp = train_test_split(X, y, test_size=test_s, random_state=0)\n",
    "    X_val, X_test, y_val, y_test = train_test_split(X_temp, y_temp, test_size=0.5, random_state=0)\n",
    "    return X_train, y_train, X_val, y_val, X_test, y_test\n"
   ]
  },
  {
   "cell_type": "code",
   "execution_count": 87,
   "metadata": {},
   "outputs": [],
   "source": [
    "def build_model(input_shape): # tuple in the shape of  model input ex: (image_width, image_height, #channels)\n",
    "\n",
    "    # Define the input placeholder as a tensor with shape input_shape.\n",
    "    X_input = Input(input_shape)  # shape=(?, 240, 240, 3)\n",
    "\n",
    "    # Zero-Padding: pads the border of X_input with zeroes\n",
    "    X = ZeroPadding2D((2, 2))(X_input)  # shape=(?, 244, 244, 3)\n",
    "\n",
    "    # CONV -> BN -> RELU Block applied to X\n",
    "    X = Conv2D(32, (7, 7), strides=(1, 1), name='conv0')(X)\n",
    "    X = BatchNormalization(axis=3, name='bn0')(X)\n",
    "    X = Activation('relu')(X)  # shape=(?, 238, 238, 32)\n",
    "\n",
    "    # MAXPOOL\n",
    "    X = MaxPooling2D((4, 4), name='max_pool0')(X)  # shape=(?, 59, 59, 32)\n",
    "\n",
    "    # MAXPOOL\n",
    "    X = MaxPooling2D((4, 4), name='max_pool1')(X)  # shape=(?, 14, 14, 32)\n",
    "\n",
    "    # FLATTEN X\n",
    "    X = Flatten()(X)  # shape=(?, 6272)\n",
    "    # FULLYCONNECTED\n",
    "    X = Dense(1, activation='sigmoid', name='fc')(X)  # shape=(?, 1)\n",
    "\n",
    "    # Create model. This creates your Keras model instance, you'll use this instance to train/test the model.\n",
    "    model = Model(inputs=X_input, outputs=X, name='BrainDetectionModel')\n",
    "\n",
    "    return model"
   ]
  },
  {
   "cell_type": "code",
   "execution_count": 88,
   "metadata": {},
   "outputs": [],
   "source": [
    "# Defining useful variables\n",
    "dir_list = ['TumorIdentifier/no', 'TumorIdentifier/yes']\n",
    "image_size = (128, 128)"
   ]
  },
  {
   "cell_type": "code",
   "execution_count": 89,
   "metadata": {},
   "outputs": [],
   "source": [
    "# Load dataset\n",
    "X, y = load_data(dir_list, image_size)"
   ]
  },
  {
   "cell_type": "code",
   "execution_count": 90,
   "metadata": {},
   "outputs": [],
   "source": [
    "# Split dataset (80% train, 10% validation, 10% test)\n",
    "X_train, y_train, X_val, y_val, X_test, y_test = split_data(X, y)"
   ]
  },
  {
   "cell_type": "code",
   "execution_count": 91,
   "metadata": {},
   "outputs": [
    {
     "name": "stdout",
     "output_type": "stream",
     "text": [
      "Model: \"BrainDetectionModel\"\n",
      "_________________________________________________________________\n",
      "Layer (type)                 Output Shape              Param #   \n",
      "=================================================================\n",
      "input_6 (InputLayer)         [(None, 128, 128, 1)]     0         \n",
      "_________________________________________________________________\n",
      "zero_padding2d_5 (ZeroPaddin (None, 132, 132, 1)       0         \n",
      "_________________________________________________________________\n",
      "conv0 (Conv2D)               (None, 126, 126, 32)      1600      \n",
      "_________________________________________________________________\n",
      "bn0 (BatchNormalization)     (None, 126, 126, 32)      128       \n",
      "_________________________________________________________________\n",
      "activation_5 (Activation)    (None, 126, 126, 32)      0         \n",
      "_________________________________________________________________\n",
      "max_pool0 (MaxPooling2D)     (None, 31, 31, 32)        0         \n",
      "_________________________________________________________________\n",
      "max_pool1 (MaxPooling2D)     (None, 7, 7, 32)          0         \n",
      "_________________________________________________________________\n",
      "flatten_5 (Flatten)          (None, 1568)              0         \n",
      "_________________________________________________________________\n",
      "fc (Dense)                   (None, 1)                 1569      \n",
      "=================================================================\n",
      "Total params: 3,297\n",
      "Trainable params: 3,233\n",
      "Non-trainable params: 64\n",
      "_________________________________________________________________\n"
     ]
    }
   ],
   "source": [
    "# Build the convolutional network model\n",
    "model = build_model((image_size[0],image_size[1],1))\n",
    "model.summary()"
   ]
  },
  {
   "cell_type": "code",
   "execution_count": 92,
   "metadata": {},
   "outputs": [],
   "source": [
    "# Compile the model\n",
    "model.compile(optimizer='adam', loss='binary_crossentropy', metrics=['accuracy', 'mse', tf.keras.metrics.Recall(), tf.keras.metrics.Precision()])"
   ]
  },
  {
   "cell_type": "code",
   "execution_count": 93,
   "metadata": {},
   "outputs": [
    {
     "name": "stdout",
     "output_type": "stream",
     "text": [
      "Epoch 1/20\n",
      "10/10 [==============================] - 6s 648ms/step - loss: 0.9616 - accuracy: 0.5196 - mse: 0.3182 - recall_6: 0.3136 - precision_6: 0.3592 - val_loss: 0.6886 - val_accuracy: 0.4211 - val_mse: 0.2478 - val_recall_6: 1.0000 - val_precision_6: 0.4211\n",
      "Epoch 2/20\n",
      "10/10 [==============================] - 5s 485ms/step - loss: 0.5241 - accuracy: 0.7712 - mse: 0.1652 - recall_6: 0.7288 - precision_6: 0.6935 - val_loss: 0.6741 - val_accuracy: 0.5526 - val_mse: 0.2406 - val_recall_6: 1.0000 - val_precision_6: 0.4848\n",
      "Epoch 3/20\n",
      "10/10 [==============================] - 5s 463ms/step - loss: 0.4378 - accuracy: 0.8137 - mse: 0.1351 - recall_6: 0.7288 - precision_6: 0.7748 - val_loss: 0.6827 - val_accuracy: 0.5263 - val_mse: 0.2450 - val_recall_6: 1.0000 - val_precision_6: 0.4706\n",
      "Epoch 4/20\n",
      "10/10 [==============================] - 5s 457ms/step - loss: 0.3634 - accuracy: 0.8529 - mse: 0.1128 - recall_6: 0.8051 - precision_6: 0.8120 - val_loss: 0.6656 - val_accuracy: 0.5789 - val_mse: 0.2364 - val_recall_6: 1.0000 - val_precision_6: 0.5000\n",
      "Epoch 5/20\n",
      "10/10 [==============================] - 5s 463ms/step - loss: 0.3407 - accuracy: 0.8693 - mse: 0.1045 - recall_6: 0.8051 - precision_6: 0.8482 - val_loss: 0.6668 - val_accuracy: 0.5526 - val_mse: 0.2370 - val_recall_6: 1.0000 - val_precision_6: 0.4848\n",
      "Epoch 6/20\n",
      "10/10 [==============================] - 5s 483ms/step - loss: 0.3207 - accuracy: 0.8595 - mse: 0.0973 - recall_6: 0.7966 - precision_6: 0.8319 - val_loss: 0.6636 - val_accuracy: 0.5526 - val_mse: 0.2355 - val_recall_6: 1.0000 - val_precision_6: 0.4848\n",
      "Epoch 7/20\n",
      "10/10 [==============================] - 5s 521ms/step - loss: 0.2972 - accuracy: 0.8824 - mse: 0.0894 - recall_6: 0.8220 - precision_6: 0.8661 - val_loss: 0.6590 - val_accuracy: 0.5789 - val_mse: 0.2332 - val_recall_6: 1.0000 - val_precision_6: 0.5000\n",
      "Epoch 8/20\n",
      "10/10 [==============================] - 7s 719ms/step - loss: 0.2812 - accuracy: 0.8693 - mse: 0.0854 - recall_6: 0.8305 - precision_6: 0.8305 - val_loss: 0.6563 - val_accuracy: 0.6053 - val_mse: 0.2318 - val_recall_6: 1.0000 - val_precision_6: 0.5161\n",
      "Epoch 9/20\n",
      "10/10 [==============================] - 9s 872ms/step - loss: 0.2601 - accuracy: 0.8987 - mse: 0.0771 - recall_6: 0.8559 - precision_6: 0.8783 - val_loss: 0.6391 - val_accuracy: 0.7895 - val_mse: 0.2232 - val_recall_6: 1.0000 - val_precision_6: 0.6667\n",
      "Epoch 10/20\n",
      "10/10 [==============================] - 10s 1s/step - loss: 0.2642 - accuracy: 0.8922 - mse: 0.0791 - recall_6: 0.8390 - precision_6: 0.8761 - val_loss: 0.6382 - val_accuracy: 0.7368 - val_mse: 0.2228 - val_recall_6: 1.0000 - val_precision_6: 0.6154\n",
      "Epoch 11/20\n",
      "10/10 [==============================] - 6s 559ms/step - loss: 0.2464 - accuracy: 0.8889 - mse: 0.0742 - recall_6: 0.8305 - precision_6: 0.8750 - val_loss: 0.6450 - val_accuracy: 0.6579 - val_mse: 0.2262 - val_recall_6: 1.0000 - val_precision_6: 0.5517\n",
      "Epoch 12/20\n",
      "10/10 [==============================] - 5s 527ms/step - loss: 0.2309 - accuracy: 0.9118 - mse: 0.0683 - recall_6: 0.8390 - precision_6: 0.9252 - val_loss: 0.6601 - val_accuracy: 0.5526 - val_mse: 0.2341 - val_recall_6: 1.0000 - val_precision_6: 0.4848\n",
      "Epoch 13/20\n",
      "10/10 [==============================] - 5s 486ms/step - loss: 0.2465 - accuracy: 0.9085 - mse: 0.0739 - recall_6: 0.8220 - precision_6: 0.9327 - val_loss: 0.6495 - val_accuracy: 0.6053 - val_mse: 0.2288 - val_recall_6: 1.0000 - val_precision_6: 0.5161\n",
      "Epoch 14/20\n",
      "10/10 [==============================] - 7s 673ms/step - loss: 0.2231 - accuracy: 0.9248 - mse: 0.0647 - recall_6: 0.9153 - precision_6: 0.8926 - val_loss: 0.6237 - val_accuracy: 0.7632 - val_mse: 0.2158 - val_recall_6: 1.0000 - val_precision_6: 0.6400\n",
      "Epoch 15/20\n",
      "10/10 [==============================] - 5s 483ms/step - loss: 0.1949 - accuracy: 0.9314 - mse: 0.0545 - recall_6: 0.8898 - precision_6: 0.9292 - val_loss: 0.6210 - val_accuracy: 0.7368 - val_mse: 0.2145 - val_recall_6: 1.0000 - val_precision_6: 0.6154\n",
      "Epoch 16/20\n",
      "10/10 [==============================] - 5s 507ms/step - loss: 0.1771 - accuracy: 0.9314 - mse: 0.0481 - recall_6: 0.8729 - precision_6: 0.9450 - val_loss: 0.6215 - val_accuracy: 0.7368 - val_mse: 0.2147 - val_recall_6: 1.0000 - val_precision_6: 0.6154\n",
      "Epoch 17/20\n",
      "10/10 [==============================] - 5s 519ms/step - loss: 0.1606 - accuracy: 0.9477 - mse: 0.0413 - recall_6: 0.8983 - precision_6: 0.9636 - val_loss: 0.6186 - val_accuracy: 0.7368 - val_mse: 0.2133 - val_recall_6: 1.0000 - val_precision_6: 0.6154\n",
      "Epoch 18/20\n",
      "10/10 [==============================] - 5s 525ms/step - loss: 0.1617 - accuracy: 0.9477 - mse: 0.0430 - recall_6: 0.9237 - precision_6: 0.9397 - val_loss: 0.6002 - val_accuracy: 0.8421 - val_mse: 0.2045 - val_recall_6: 0.9375 - val_precision_6: 0.7500\n",
      "Epoch 19/20\n",
      "10/10 [==============================] - 5s 503ms/step - loss: 0.1403 - accuracy: 0.9608 - mse: 0.0336 - recall_6: 0.9407 - precision_6: 0.9569 - val_loss: 0.6024 - val_accuracy: 0.8158 - val_mse: 0.2056 - val_recall_6: 1.0000 - val_precision_6: 0.6957\n",
      "Epoch 20/20\n",
      "10/10 [==============================] - 5s 484ms/step - loss: 0.1405 - accuracy: 0.9608 - mse: 0.0336 - recall_6: 0.9322 - precision_6: 0.9649 - val_loss: 0.5957 - val_accuracy: 0.7895 - val_mse: 0.2024 - val_recall_6: 0.9375 - val_precision_6: 0.6818\n",
      "CPU times: user 4min 3s, sys: 28.1 s, total: 4min 31s\n",
      "Wall time: 2min 12s\n"
     ]
    },
    {
     "data": {
      "text/plain": [
       "<tensorflow.python.keras.callbacks.History at 0x7f9d13423c70>"
      ]
     },
     "execution_count": 93,
     "metadata": {},
     "output_type": "execute_result"
    }
   ],
   "source": [
    "%%time\n",
    "\n",
    "# Train the model (run cell multiple times to loop)\n",
    "model.fit(x=X_train, y=y_train, batch_size=32, epochs=20, validation_data=(X_val, y_val))"
   ]
  },
  {
   "cell_type": "code",
   "execution_count": 94,
   "metadata": {},
   "outputs": [
    {
     "name": "stdout",
     "output_type": "stream",
     "text": [
      "loss\n",
      "accuracy\n",
      "mse\n",
      "recall_6\n",
      "precision_6\n",
      "val_loss\n",
      "val_accuracy\n",
      "val_mse\n",
      "val_recall_6\n",
      "val_precision_6\n"
     ]
    }
   ],
   "source": [
    "# For plotting the loss and accuracy\n",
    "history = model.history.history\n",
    "for key in history.keys():\n",
    "    print(key)"
   ]
  },
  {
   "cell_type": "code",
   "execution_count": 96,
   "metadata": {},
   "outputs": [],
   "source": [
    "y_pred = model.predict_on_batch(X_test)\n",
    "#print(y_pred)\n",
    "#print(model.evaluate(X_test, y_pred))"
   ]
  },
  {
   "cell_type": "code",
   "execution_count": 97,
   "metadata": {},
   "outputs": [
    {
     "data": {
      "image/png": "[encoded data removed]",
      "text/plain": [
       "<Figure size 432x288 with 1 Axes>"
      ]
     },
     "metadata": {
      "needs_background": "light"
     },
     "output_type": "display_data"
    },
    {
     "data": {
      "image/png": "[encoded data removed]",
      "text/plain": [
       "<Figure size 432x288 with 1 Axes>"
      ]
     },
     "metadata": {
      "needs_background": "light"
     },
     "output_type": "display_data"
    },
    {
     "data": {
      "image/png": "[encoded data removed]",
      "text/plain": [
       "<Figure size 432x288 with 1 Axes>"
      ]
     },
     "metadata": {
      "needs_background": "light"
     },
     "output_type": "display_data"
    },
    {
     "data": {
      "image/png": "[encoded data removed]",
      "text/plain": [
       "<Figure size 432x288 with 1 Axes>"
      ]
     },
     "metadata": {
      "needs_background": "light"
     },
     "output_type": "display_data"
    }
   ],
   "source": [
    "# Function which plots loss, accuracy, recall and precision of the trained model\n",
    "def plot_metrics(history):\n",
    "\n",
    "    keys = list(history)\n",
    "    \n",
    "    train_loss = history['loss']\n",
    "    val_loss = history['val_loss']\n",
    "    train_acc = history['accuracy']\n",
    "    val_acc = history['val_accuracy']\n",
    "    train_recall = history[keys[3]]\n",
    "    val_recall = history[keys[8]]\n",
    "    train_precision = history[keys[4]]\n",
    "    val_precision = history[keys[9]]\n",
    "    \n",
    "    \n",
    "    # Loss\n",
    "    plt.figure()\n",
    "    plt.plot(train_loss, label='Training Loss')\n",
    "    plt.plot(val_loss, label='Validation Loss')\n",
    "    plt.title('Loss')\n",
    "    plt.xlabel('Epoch #')\n",
    "    plt.ylabel('Loss')\n",
    "    plt.legend()\n",
    "    plt.show()\n",
    "    \n",
    "    # Accuracy\n",
    "    plt.figure()\n",
    "    plt.plot(train_acc, label='Training Accuracy')\n",
    "    plt.plot(val_acc, label='Validation Accuracy')\n",
    "    plt.title('Accuracy')\n",
    "    plt.xlabel('Epoch #')\n",
    "    plt.ylabel('Accuracy')\n",
    "    plt.legend()\n",
    "    plt.show()\n",
    "\n",
    "    # Recall\n",
    "    plt.figure()\n",
    "    plt.plot(train_recall, label='Training Recall')\n",
    "    plt.plot(val_recall, label='Validation Recall')\n",
    "    plt.title('Recall')\n",
    "    plt.xlabel('Epoch #')\n",
    "    plt.ylabel('Recall')\n",
    "    plt.legend()\n",
    "    plt.show()\n",
    "\n",
    "    # Precision\n",
    "    plt.figure()\n",
    "    plt.plot(train_precision, label='Training Precision')\n",
    "    plt.plot(val_precision, label='Validation Precision')\n",
    "    plt.title('Precision')\n",
    "    plt.xlabel('Epoch #')\n",
    "    plt.ylabel('Precision')   \n",
    "    plt.legend()\n",
    "    plt.show()\n",
    "\n",
    "    # Plot loss, accuracy, recall and precision of training and validation data\n",
    "plot_metrics(history)"
   ]
  },
  {
   "cell_type": "code",
   "execution_count": null,
   "metadata": {},
   "outputs": [],
   "source": []
  },
  {
   "cell_type": "code",
   "execution_count": null,
   "metadata": {},
   "outputs": [],
   "source": []
  }
 ],
 "metadata": {
  "kernelspec": {
   "display_name": "Python 3",
   "language": "python",
   "name": "python3"
  },
  "language_info": {
   "codemirror_mode": {
    "name": "ipython",
    "version": 3
   },
   "file_extension": ".py",
   "mimetype": "text/x-python",
   "name": "python",
   "nbconvert_exporter": "python",
   "pygments_lexer": "ipython3",
   "version": "3.8.5"
  }
 },
 "nbformat": 4,
 "nbformat_minor": 2
}
